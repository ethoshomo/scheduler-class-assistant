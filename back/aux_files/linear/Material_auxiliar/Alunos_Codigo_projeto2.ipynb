{
  "cells": [
    {
      "cell_type": "markdown",
      "id": "4GHGJaxmppTB",
      "metadata": {
        "id": "4GHGJaxmppTB"
      },
      "source": [
        "## Bibliotecas"
      ]
    },
    {
      "cell_type": "code",
      "execution_count": null,
      "id": "gzIu9HEzp9kJ",
      "metadata": {
        "colab": {
          "base_uri": "https://localhost:8080/"
        },
        "id": "gzIu9HEzp9kJ",
        "outputId": "ed0c71b8-fa5d-4910-d12b-ebc67fcb436a"
      },
      "outputs": [
        {
          "output_type": "stream",
          "name": "stdout",
          "text": [
            "Requirement already satisfied: mip in /usr/local/lib/python3.10/dist-packages (1.15.0)\n",
            "Requirement already satisfied: cffi==1.15.* in /usr/local/lib/python3.10/dist-packages (from mip) (1.15.1)\n",
            "Requirement already satisfied: pycparser in /usr/local/lib/python3.10/dist-packages (from cffi==1.15.*->mip) (2.22)\n"
          ]
        }
      ],
      "source": [
        "!pip install mip\n",
        "\n",
        "import pandas as pd\n",
        "import random\n",
        "import math\n",
        "import time\n",
        "from mip import Model, xsum, maximize, BINARY, INTEGER, OptimizationStatus"
      ]
    },
    {
      "cell_type": "markdown",
      "source": [
        "# Leitura dos Dados"
      ],
      "metadata": {
        "id": "OSyyV1EhRmHx"
      },
      "id": "OSyyV1EhRmHx"
    },
    {
      "cell_type": "code",
      "execution_count": null,
      "id": "A_FlaOhLpzOS",
      "metadata": {
        "id": "A_FlaOhLpzOS"
      },
      "outputs": [],
      "source": [
        "# Função para ler e processar os dados dos monitores e disciplinas a partir de um arquivo Excel.\n",
        "# Ela lê o arquivo, limpa os nomes das colunas, remove duplicatas e extrai as colunas relevantes.\n",
        "# Retorna um dicionário de alunos, uma lista de notas (Na) e uma matriz de disponibilidade (s_ad).\n",
        "# Parâmetro:\n",
        "# - path (str): Caminho para o arquivo Excel.\n",
        "# Retornos:\n",
        "# - alunos (dict): Dicionário onde a chave é o número USP e contem as seguintes informacoes --\n",
        "#  -- > [Interesse em ser voluntario(ignorar), pontuacao do aluno (float), criterio de desempate (1, 2 ou 3), lista de materias que ele esta inscrito (Ex: [38, 39, 40]]).\n",
        "# - Na (list): Lista das notas dos alunos.\n",
        "# - s_ad (list of lists): Matriz binária de disponibilidade dos alunos para disciplinas.\n",
        "def ler_dados(path):\n",
        "    # Padroniza o nome das colunas, para facilitar extracao\n",
        "    def limpar_nome_coluna(nome):\n",
        "        return ' '.join(nome.strip().split()).lower()\n",
        "\n",
        "    # Le e extrai as colunas necessarias\n",
        "    df = pd.read_excel(path)\n",
        "    df.columns = [limpar_nome_coluna(col) for col in df.columns]\n",
        "    df = df.drop_duplicates(subset=['nºusp'], keep='last') # mantem apenas a ultima ocorrencia de um NUSP\n",
        "\n",
        "    colunas_n = [\n",
        "        'nºusp',\n",
        "        'possui pedido de bolsa de estudos em andamento? (a concessão de bolsa de estudos implicará no cancelamento da monitoria a partir do início da vigência da bolsa)',\n",
        "        'pretende se inscrever no peeg? (o acúmulo das duas monitorias não é permitido. caso o aluno seja selecionado nas duas modalidades precisará optar por uma delas)',\n",
        "        'departamento de matemática (início da monitoria em 05/08/2024)',\n",
        "        'departamento de matemática aplicada e estatística (início da monitoria em 05/08/2024)',\n",
        "        'departamento de ciências de computação (início da monitoria em 05/08/2024)',\n",
        "        'departamento de sistemas de computação (início da monitoria em 01/09/2024)',\n",
        "        'tem interesse na monitoria voluntária (sem recebimento de bolsa)?',\n",
        "        'média ponderada com reprovações'\n",
        "    ]\n",
        "\n",
        "    df_colunas = df[colunas_n].copy()\n",
        "\n",
        "    # Calcula a pontuacao para criterio de desempate dos alunos (3 - mais prioridade, 2 - prioridade media, 1 - prioridade baixa)\n",
        "    def calcular_pontuacao(row):\n",
        "        bolsa = row[colunas_n[1]]\n",
        "        peeg = row[colunas_n[2]]\n",
        "        if bolsa == 'Sim' and peeg == 'Sim':\n",
        "            return 1\n",
        "        elif bolsa == 'Não' and peeg == 'Não':\n",
        "            return 3\n",
        "        return 2\n",
        "\n",
        "    df_colunas['bolsa_peeg_status'] = df_colunas.apply(calcular_pontuacao, axis=1)\n",
        "    df_colunas = df_colunas.drop([colunas_n[1], colunas_n[2]], axis=1)\n",
        "\n",
        "    # Faz o mapeamento dos departamentos presentes na planilha\n",
        "    departamento_mapping = {\n",
        "        colunas_n[3]: 1,\n",
        "        colunas_n[4]: 2,\n",
        "        colunas_n[5]: 3,\n",
        "        colunas_n[6]: 4\n",
        "    }\n",
        "\n",
        "    # Extrai as materias presentes na planilha\n",
        "    materias_set = set()\n",
        "    materias_dict = {}\n",
        "    materia_index = 0\n",
        "\n",
        "    for dept_col, dept_num in departamento_mapping.items():\n",
        "        for materias in df_colunas[dept_col].dropna():\n",
        "            for materia in materias.split(','):\n",
        "                materia = materia.strip()\n",
        "                if materia not in materias_set:\n",
        "                    materias_set.add(materia)\n",
        "                    materias_dict[materia_index] = (materia, dept_num)\n",
        "                    materia_index += 1\n",
        "\n",
        "    # Extrai os alunos, sua nota, sua pontuacao de desempate, se tem interesse em ser voluntario e as materias que ele se inscreveu\n",
        "    alunos = df_colunas.set_index('nºusp').T.to_dict('list')\n",
        "\n",
        "    Na = []\n",
        "    for usp, valores in alunos.items():\n",
        "        materias_combinadas = []\n",
        "        valores_limpos = []\n",
        "        for valor in valores:\n",
        "            if isinstance(valor, str) and '-' in valor:\n",
        "                for materia in valor.split(','):\n",
        "                    materia = materia.strip()\n",
        "                    for indice, (mat, dept) in materias_dict.items():\n",
        "                        if materia == mat:\n",
        "                            materias_combinadas.append(indice)\n",
        "                            break\n",
        "            elif isinstance(valor, str) and (valor.upper() == 'POS' or valor.upper() == 'PÓS'): # atribui a nota 1 caso o aluno for da pos, para diminuir sua prioridade\n",
        "                valores_limpos.append(1)\n",
        "            elif not pd.isna(valor):\n",
        "                valores_limpos.append(valor)\n",
        "\n",
        "        if materias_combinadas:\n",
        "            valores_limpos.append(sorted(materias_combinadas))\n",
        "\n",
        "        alunos[usp] = valores_limpos\n",
        "        nota = valores_limpos[1] if len(valores_limpos) > 1 else None\n",
        "        Na.append(nota)\n",
        "\n",
        "    s_ad = [\n",
        "        [1 if materia in valores_limpos[-1] else 0 for materia in materias_dict.keys()]\n",
        "        for usp, valores_limpos in alunos.items()\n",
        "    ]\n",
        "\n",
        "    return alunos, Na, s_ad"
      ]
    },
    {
      "cell_type": "markdown",
      "source": [
        "# Modelo"
      ],
      "metadata": {
        "id": "MU64b27kRulj"
      },
      "id": "MU64b27kRulj"
    },
    {
      "cell_type": "code",
      "source": [
        "# Função para criar o modelo de otimização de alocação de monitores com base nos dados fornecidos.\n",
        "# Parâmetros:\n",
        "# - alunos (dict): Dicionário de alunos (informações como notas, disponibilidade etc).\n",
        "# - Na (list): Lista de notas dos alunos.\n",
        "# - s_ad (list of lists): Matriz de disponibilidade dos alunos para disciplinas.\n",
        "# - materias (list): Lista de todas as disciplinas.\n",
        "# Retorno: Deve retornar o modelo de otimização, variáveis e os dados para análise posterior.\n",
        "def criar_modelo(alunos, Na, s_ad, materias):\n",
        "    # Voce deve implementar esta parte (foi deixado um exemplo de como pegar os parametros)\n",
        "    # Esta é apenas uma sugestão de implementacao, voce pode mudar esta funcao se desejar ou ate criar o modelo\n",
        "    # diretamente no codigo sem usar uma funcao (recomendo fortemente que nao faca isso)\n",
        "\n",
        "    # Conjunto de monitores (A) e disciplinas (D)\n",
        "    # A = list(range(len(alunos)))\n",
        "    # D = materias\n",
        "\n",
        "    # m = Model(\"Alocacao_de_Monitores\", solver_name=\"CBC\") # Pode mudar o nome do modelo se quiser, mas nao altere a parte do solver_name\n",
        "\n",
        "    return m, x_ad, y_d, D\n",
        "\n",
        "# Função para resolver o modelo de otimização com base em parâmetros fornecidos.\n",
        "# Parâmetros:\n",
        "# - modelo (pulp.LpProblem): O modelo de otimização que será resolvido.\n",
        "# - presolve (int): Se 1, presolve é ativado; se 0, é desativado.\n",
        "# - cortes (int): Intensidade da geracao de cortes (0 desativa).\n",
        "# Retorno: O modelo resolvido.\n",
        "def resolver_modelo(modelo, presolve, cortes):\n",
        "    # Configurar as opções do solver\n",
        "    modelo.preprocess = presolve  # Define preprocess (-1, 0, 1)\n",
        "    modelo.cuts = cortes  # Define geração de cortes (-1, 0, 1, 2, 3)\n",
        "\n",
        "    # Medir o tempo de execução\n",
        "    start_time = time.time()\n",
        "\n",
        "    # Resolver o modelo\n",
        "    status = modelo.optimize(max_seconds=1800) # Limite de tempo de 30 minutos\n",
        "\n",
        "    # Calcular o tempo de execução\n",
        "    execution_time = time.time() - start_time\n",
        "\n",
        "    # Exibir as informações do modelo resolvido\n",
        "    print(f\"Solução Encontrada: {modelo.objective_value}\")\n",
        "    print(f\"Gap: {modelo.gap * 100:.2f}%\")\n",
        "    print(f\"Tempo de execução: {execution_time:.2f} segundos\")\n",
        "\n",
        "    return modelo\n",
        "\n",
        "# Função para exibir as informações dos monitores alocados e não alocados, além das disciplinas não atendidas.\n",
        "# Parâmetros:\n",
        "# - m (pulp.LpProblem): O modelo de otimização resolvido.\n",
        "# - x_ad (dict): Variáveis de decisão indicando a alocação dos monitores às disciplinas.\n",
        "# - y_d (dict): Variáveis de decisão indicando disciplinas não atendidas.\n",
        "# - alunos (dict): Dicionário contendo as informações dos alunos.\n",
        "# - D (list): Lista de disciplinas disponíveis.\n",
        "# - s_ad (list of lists): Matriz de disponibilidade dos monitores para as disciplinas.\n",
        "# Retorno: Nenhum. A função imprime os resultados diretamente.\n",
        "def informacoes_monitores(m, x_ad, y_d, alunos, D, s_ad):\n",
        "    monitores_alocados = []\n",
        "    monitores_nao_alocados = []\n",
        "\n",
        "    # Exibe os monitores alocados para disciplinas\n",
        "    for a in range(len(alunos)):\n",
        "        alocado = False\n",
        "        for d in D:\n",
        "            if x_ad[a][d].x >= 0.99:  # Verifica se a variável é 1\n",
        "                monitores_alocados.append(f\"Monitor {list(alunos.keys())[a]} foi alocado para a disciplina {d}.\")\n",
        "                alocado = True\n",
        "\n",
        "        # Caso o monitor não tenha sido alocado, armazenar a informação para exibir depois\n",
        "        if not alocado:\n",
        "            disciplinas_inscrito = [d for d in D if s_ad[a][d] == 1]\n",
        "            monitores_nao_alocados.append(f\"Monitor {list(alunos.keys())[a]} NÃO foi alocado. Inscrito para as disciplinas: {disciplinas_inscrito}\")\n",
        "\n",
        "    # Exibir os monitores alocados\n",
        "    print(\"\\nMonitores alocados:\")\n",
        "    for alocacao in monitores_alocados:\n",
        "        print(alocacao)\n",
        "\n",
        "    # Exibir os monitores não alocados\n",
        "    print(\"\\nMonitores não alocados:\")\n",
        "    for nao_alocacao in monitores_nao_alocados:\n",
        "        print(nao_alocacao)\n",
        "\n",
        "    # Mostrar disciplinas não atendidas e os monitores que se inscreveram para elas\n",
        "    print(\"\\nDisciplinas não atendidas e seus inscritos:\")\n",
        "    for d in D:\n",
        "        if y_d[d].x >= 0.99:  # Verifica se a variável é 1\n",
        "            monitores_inscritos = [list(alunos.keys())[a] for a in range(len(alunos)) if s_ad[a][d] == 1]\n",
        "            if monitores_inscritos:\n",
        "                print(f\"A disciplina {d} não foi atendida por nenhum monitor. Inscritos: {monitores_inscritos}\")\n",
        "            else:\n",
        "                print(f\"A disciplina {d} não foi atendida por nenhum monitor e não possui inscritos.\")\n"
      ],
      "metadata": {
        "id": "9IxZhKhgRtHY"
      },
      "id": "9IxZhKhgRtHY",
      "execution_count": null,
      "outputs": []
    },
    {
      "cell_type": "markdown",
      "source": [
        "# Gerar Instâncias Maiores"
      ],
      "metadata": {
        "id": "fl9RUeiKR3mY"
      },
      "id": "fl9RUeiKR3mY"
    },
    {
      "cell_type": "code",
      "execution_count": null,
      "id": "41a8dd89",
      "metadata": {
        "id": "41a8dd89"
      },
      "outputs": [],
      "source": [
        "# Função para aumentar os dados de alunos e matérias com base na escala fornecida.\n",
        "# Parâmetros:\n",
        "# - file_path (str): Caminho para o arquivo Excel com os dados originais.\n",
        "# - escala (float): Fator de aumento dos dados (e.g., 1.5 para aumentar em 50%).\n",
        "# Retorno: Retorna os dados aumentados (alunos, notas, disponibilidade dos alunos para disciplinas e a lista de matérias).\n",
        "def aumentar_dados(path, escala):\n",
        "    # Lê os dados originais usando a função existente\n",
        "    alunos_originais, Na_originais, s_ad_originais = ler_dados(path)\n",
        "    seed = 0\n",
        "\n",
        "    # Se seed for 0 e escala for 1, retornar os dados originais\n",
        "    if seed == 0 and escala == 1:\n",
        "        todas_materias = list(range(len(s_ad_originais[0])))\n",
        "        return alunos_originais, Na_originais, s_ad_originais, todas_materias\n",
        "\n",
        "    # Define a seed para a geração de dados aleatórios\n",
        "    if seed is not None:\n",
        "        random.seed(seed)\n",
        "\n",
        "    novos_alunos = {}\n",
        "    novas_notas = []\n",
        "    nova_s_ad = []\n",
        "    usp_existentes = set(alunos_originais.keys())\n",
        "    max_usp = max(usp_existentes)\n",
        "\n",
        "    # Aumenta o número de materias em 1.12x com base na escala\n",
        "    num_materias_originais = len(s_ad_originais[0])\n",
        "    num_novas_materias = math.ceil(num_materias_originais * 1.12 * escala)\n",
        "\n",
        "    # Novos índices para as matérias que serão adicionadas\n",
        "    novas_materias = list(range(num_materias_originais, num_materias_originais + num_novas_materias))\n",
        "\n",
        "    # Aumenta o numero de alunos conforme a escala\n",
        "    total_alunos = len(alunos_originais)\n",
        "    num_novos_alunos = math.ceil(total_alunos * (escala - 1))  # Cria novos alunos além dos originais\n",
        "\n",
        "    # Cria os novos alunos\n",
        "    for i in range(num_novos_alunos):\n",
        "        # Novo Nusp\n",
        "        max_usp += 1\n",
        "        novo_usp = max_usp\n",
        "        usp_existentes.add(novo_usp)\n",
        "\n",
        "        # Gerar uma nova nota aleatória para o novo aluno\n",
        "        nova_nota = random.uniform(0, 10)\n",
        "        novas_notas.append(nova_nota)\n",
        "\n",
        "        # Gerar matérias aleatórias (entre 2 e 4) para cada novo aluno\n",
        "        num_materias_aluno = random.randint(2, 4)\n",
        "        todas_materias = list(range(num_materias_originais)) + novas_materias  # Considera matérias antigas e novas\n",
        "        materias_aluno = random.sample(todas_materias, num_materias_aluno)\n",
        "\n",
        "        # Criar a matriz de disponibilidade (s_ad) para o novo aluno com as matérias selecionadas\n",
        "        disponibilidade_aluno = [1 if materia in materias_aluno else 0 for materia in todas_materias]\n",
        "        nova_s_ad.append(disponibilidade_aluno)\n",
        "\n",
        "        novos_alunos[novo_usp] = []\n",
        "\n",
        "    # Expande a matriz s_ad original para acomodar as novas matérias\n",
        "    s_ad_expandidos = [row + [0] * len(novas_materias) for row in s_ad_originais]\n",
        "    s_ad_expandidos += nova_s_ad\n",
        "\n",
        "    # Combinar os dados originais e os novos\n",
        "    alunos_expandidos = {**alunos_originais, **novos_alunos}\n",
        "    Na_expandidos = Na_originais + novas_notas\n",
        "\n",
        "    return alunos_expandidos, Na_expandidos, s_ad_expandidos, todas_materias"
      ]
    },
    {
      "cell_type": "markdown",
      "source": [
        "# Exemplo de Uso"
      ],
      "metadata": {
        "id": "zgARgHN-R-XX"
      },
      "id": "zgARgHN-R-XX"
    },
    {
      "cell_type": "code",
      "execution_count": null,
      "id": "cc7e777f",
      "metadata": {
        "colab": {
          "base_uri": "https://localhost:8080/"
        },
        "id": "cc7e777f",
        "outputId": "f9caacf7-f598-45ce-bc08-a46918ee4944"
      },
      "outputs": [
        {
          "output_type": "stream",
          "name": "stdout",
          "text": [
            "Solução Encontrada: 478.3\n",
            "Gap: 0.00%\n",
            "Tempo de execução: 0.43 segundos\n"
          ]
        }
      ],
      "source": [
        "# Caminho do arquivo Excel com os dados originais\n",
        "path = 'Dados_monitores.xlsx'\n",
        "\n",
        "# Aumenta os dados de alunos e matérias\n",
        "alunos, Na, s_ad, materias = aumentar_dados(path, escala=1)\n",
        "\n",
        "# Cria o modelo de otimização com os dados aumentados\n",
        "mod, x_ad, y_d, D = criar_modelo(alunos, Na, s_ad, materias)\n",
        "\n",
        "# Resolve o modelo\n",
        "m = resolver_modelo(mod, 1, 1)\n",
        "\n",
        "# informacoes_monitores(m, x_ad, y_d, alunos, D, s_ad)"
      ]
    }
  ],
  "metadata": {
    "colab": {
      "collapsed_sections": [
        "4GHGJaxmppTB",
        "MU64b27kRulj",
        "fl9RUeiKR3mY"
      ],
      "provenance": []
    },
    "kernelspec": {
      "display_name": "Python 3 (ipykernel)",
      "language": "python",
      "name": "python3"
    },
    "language_info": {
      "codemirror_mode": {
        "name": "ipython",
        "version": 3
      },
      "file_extension": ".py",
      "mimetype": "text/x-python",
      "name": "python",
      "nbconvert_exporter": "python",
      "pygments_lexer": "ipython3",
      "version": "3.10.9"
    }
  },
  "nbformat": 4,
  "nbformat_minor": 5
}